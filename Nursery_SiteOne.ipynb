{
 "cells": [
  {
   "cell_type": "code",
   "execution_count": 1,
   "id": "a4a25676",
   "metadata": {},
   "outputs": [
    {
     "name": "stdout",
     "output_type": "stream",
     "text": [
      "Requirement already satisfied: Pillow in /usr/local/lib/python3.8/site-packages (9.2.0)\n",
      "Note: you may need to restart the kernel to use updated packages.\n"
     ]
    }
   ],
   "source": [
    "pip install Pillow"
   ]
  },
  {
   "cell_type": "code",
   "execution_count": 2,
   "id": "1c68b2b0",
   "metadata": {},
   "outputs": [
    {
     "name": "stdout",
     "output_type": "stream",
     "text": [
      "Requirement already satisfied: wheel in /usr/local/lib/python3.8/site-packages (0.34.2)\n",
      "Note: you may need to restart the kernel to use updated packages.\n"
     ]
    }
   ],
   "source": [
    "pip install wheel"
   ]
  },
  {
   "cell_type": "code",
   "execution_count": 3,
   "id": "9d52dfc9",
   "metadata": {},
   "outputs": [
    {
     "name": "stdout",
     "output_type": "stream",
     "text": [
      "Requirement already satisfied: pandas in /usr/local/lib/python3.8/site-packages (1.4.3)\n",
      "Requirement already satisfied: python-dateutil>=2.8.1 in /usr/local/lib/python3.8/site-packages (from pandas) (2.8.2)\n",
      "Requirement already satisfied: pytz>=2020.1 in /usr/local/lib/python3.8/site-packages (from pandas) (2022.2.1)\n",
      "Requirement already satisfied: numpy>=1.18.5; platform_machine != \"aarch64\" and platform_machine != \"arm64\" and python_version < \"3.10\" in /usr/local/lib/python3.8/site-packages (from pandas) (1.23.2)\n",
      "Requirement already satisfied: six>=1.5 in /usr/local/lib/python3.8/site-packages (from python-dateutil>=2.8.1->pandas) (1.16.0)\n",
      "Note: you may need to restart the kernel to use updated packages.\n"
     ]
    }
   ],
   "source": [
    "pip install pandas"
   ]
  },
  {
   "cell_type": "code",
   "execution_count": 12,
   "id": "9e2e3343",
   "metadata": {},
   "outputs": [],
   "source": [
    "from PIL import Image, ImageDraw, ImageFont\n",
    "import pandas as pd\n",
    "import os"
   ]
  },
  {
   "cell_type": "code",
   "execution_count": 18,
   "id": "795c7431",
   "metadata": {},
   "outputs": [
    {
     "data": {
      "text/html": [
       "<div>\n",
       "<style scoped>\n",
       "    .dataframe tbody tr th:only-of-type {\n",
       "        vertical-align: middle;\n",
       "    }\n",
       "\n",
       "    .dataframe tbody tr th {\n",
       "        vertical-align: top;\n",
       "    }\n",
       "\n",
       "    .dataframe thead th {\n",
       "        text-align: right;\n",
       "    }\n",
       "</style>\n",
       "<table border=\"1\" class=\"dataframe\">\n",
       "  <thead>\n",
       "    <tr style=\"text-align: right;\">\n",
       "      <th></th>\n",
       "      <th>SKUID</th>\n",
       "      <th>Max Growth Width</th>\n",
       "      <th>Max Growth Height</th>\n",
       "    </tr>\n",
       "  </thead>\n",
       "  <tbody>\n",
       "    <tr>\n",
       "      <th>0</th>\n",
       "      <td>89037</td>\n",
       "      <td>4.5 cm</td>\n",
       "      <td>7.2 cm</td>\n",
       "    </tr>\n",
       "    <tr>\n",
       "      <th>1</th>\n",
       "      <td>11147</td>\n",
       "      <td>5.6 cm</td>\n",
       "      <td>9.8 cm</td>\n",
       "    </tr>\n",
       "    <tr>\n",
       "      <th>2</th>\n",
       "      <td>37289</td>\n",
       "      <td>7.8 cm</td>\n",
       "      <td>10.1 cm</td>\n",
       "    </tr>\n",
       "  </tbody>\n",
       "</table>\n",
       "</div>"
      ],
      "text/plain": [
       "   SKUID Max Growth Width Max Growth Height\n",
       "0  89037           4.5 cm            7.2 cm\n",
       "1  11147           5.6 cm            9.8 cm\n",
       "2  37289           7.8 cm           10.1 cm"
      ]
     },
     "execution_count": 18,
     "metadata": {},
     "output_type": "execute_result"
    }
   ],
   "source": [
    "#read Excel sheet using pandas\n",
    "icon_sheet = pd.read_excel(\"/Users/benedictadadson/Downloads/Nursery.xlsx\")\n",
    "icon_sheet"
   ]
  },
  {
   "cell_type": "code",
   "execution_count": 19,
   "id": "9bc18232",
   "metadata": {},
   "outputs": [],
   "source": [
    "#open image and retrieve column names\n",
    "#store column names into variables\n",
    "image = Image.open(\"/Users/benedictadadson/Desktop/ii.jpeg\")\n",
    "width = icon_sheet[\"Max Growth Width\"]\n",
    "height = icon_sheet[\"Max Growth Height\"]\n",
    "SKU = icon_sheet[\"SKUID\"]\n",
    "sku_values = list(SKU)\n",
    "dimensions = [list(width), list(height)]"
   ]
  },
  {
   "cell_type": "code",
   "execution_count": 20,
   "id": "970b69a0",
   "metadata": {},
   "outputs": [],
   "source": [
    "#iterate through files and save them by \"SKUID\"\n",
    "for files in sku_values:\n",
    "    for items in zip(*dimensions):\n",
    "        #produces a clear image on every iteration\n",
    "        clear = image.copy()\n",
    "        img_edit = ImageDraw.Draw(clear)\n",
    "        #instance of imagedraw\n",
    "        title_font = ImageFont.load_default()\n",
    "        #adjust numbers if necessary for dimensions\n",
    "        img_edit.text((350,350), text = str(items[1]), fill = (0,0,0), font = title_font)\n",
    "        img_edit.text((360,680), str(items[0]), (0,0,0), font = title_font)\n",
    "        #new folder to save edited images\n",
    "        _dir = \"/Users/benedictadadson/Desktop/sample nursery\"\n",
    "        clear.save(f\"{_dir}/{files}.png\")\n",
    "\n",
    "image.close()       "
   ]
  },
  {
   "cell_type": "code",
   "execution_count": null,
   "id": "7cb15562",
   "metadata": {},
   "outputs": [],
   "source": []
  }
 ],
 "metadata": {
  "kernelspec": {
   "display_name": "Python 3 (ipykernel)",
   "language": "python",
   "name": "python3"
  },
  "language_info": {
   "codemirror_mode": {
    "name": "ipython",
    "version": 3
   },
   "file_extension": ".py",
   "mimetype": "text/x-python",
   "name": "python",
   "nbconvert_exporter": "python",
   "pygments_lexer": "ipython3",
   "version": "3.8.5"
  }
 },
 "nbformat": 4,
 "nbformat_minor": 5
}
